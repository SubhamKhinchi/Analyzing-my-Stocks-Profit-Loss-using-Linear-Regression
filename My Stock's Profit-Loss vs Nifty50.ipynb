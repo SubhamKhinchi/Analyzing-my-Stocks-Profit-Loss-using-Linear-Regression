{
 "cells": [
  {
   "cell_type": "markdown",
   "metadata": {},
   "source": [
    "# Analyzing my Stock's Profit-Loss against Nifty50"
   ]
  },
  {
   "cell_type": "markdown",
   "metadata": {},
   "source": [
    "### Let's import required libraries"
   ]
  },
  {
   "cell_type": "code",
   "execution_count": 1,
   "metadata": {},
   "outputs": [],
   "source": [
    "import pandas as pd\n",
    "import matplotlib.pyplot as plt\n",
    "from sklearn import linear_model"
   ]
  },
  {
   "cell_type": "markdown",
   "metadata": {},
   "source": [
    "## Import P/L per day and respective Nifty50 data from google sheet\n",
    "### Using gviz (Google Visualisation API) to query my google sheet and get required data"
   ]
  },
  {
   "cell_type": "code",
   "execution_count": 29,
   "metadata": {},
   "outputs": [
    {
     "data": {
      "text/html": [
       "<div>\n",
       "<style scoped>\n",
       "    .dataframe tbody tr th:only-of-type {\n",
       "        vertical-align: middle;\n",
       "    }\n",
       "\n",
       "    .dataframe tbody tr th {\n",
       "        vertical-align: top;\n",
       "    }\n",
       "\n",
       "    .dataframe thead th {\n",
       "        text-align: right;\n",
       "    }\n",
       "</style>\n",
       "<table border=\"1\" class=\"dataframe\">\n",
       "  <thead>\n",
       "    <tr style=\"text-align: right;\">\n",
       "      <th></th>\n",
       "      <th>Date</th>\n",
       "      <th>P/L</th>\n",
       "      <th>Nifty 50</th>\n",
       "    </tr>\n",
       "  </thead>\n",
       "  <tbody>\n",
       "    <tr>\n",
       "      <th>0</th>\n",
       "      <td>5/16/2021</td>\n",
       "      <td>0.00</td>\n",
       "      <td>0.00</td>\n",
       "    </tr>\n",
       "    <tr>\n",
       "      <th>1</th>\n",
       "      <td>5/17/2021</td>\n",
       "      <td>9.60</td>\n",
       "      <td>14923.15</td>\n",
       "    </tr>\n",
       "    <tr>\n",
       "      <th>2</th>\n",
       "      <td>5/18/2021</td>\n",
       "      <td>53.54</td>\n",
       "      <td>15108.10</td>\n",
       "    </tr>\n",
       "    <tr>\n",
       "      <th>3</th>\n",
       "      <td>5/19/2021</td>\n",
       "      <td>47.93</td>\n",
       "      <td>15030.15</td>\n",
       "    </tr>\n",
       "    <tr>\n",
       "      <th>4</th>\n",
       "      <td>5/20/2021</td>\n",
       "      <td>32.98</td>\n",
       "      <td>14906.05</td>\n",
       "    </tr>\n",
       "    <tr>\n",
       "      <th>5</th>\n",
       "      <td>5/21/2021</td>\n",
       "      <td>79.93</td>\n",
       "      <td>15175.30</td>\n",
       "    </tr>\n",
       "    <tr>\n",
       "      <th>6</th>\n",
       "      <td>5/24/2021</td>\n",
       "      <td>90.25</td>\n",
       "      <td>15197.70</td>\n",
       "    </tr>\n",
       "    <tr>\n",
       "      <th>7</th>\n",
       "      <td>5/25/2021</td>\n",
       "      <td>87.79</td>\n",
       "      <td>15208.45</td>\n",
       "    </tr>\n",
       "    <tr>\n",
       "      <th>8</th>\n",
       "      <td>5/26/2021</td>\n",
       "      <td>114.11</td>\n",
       "      <td>15301.45</td>\n",
       "    </tr>\n",
       "    <tr>\n",
       "      <th>9</th>\n",
       "      <td>5/27/2021</td>\n",
       "      <td>122.82</td>\n",
       "      <td>15337.85</td>\n",
       "    </tr>\n",
       "    <tr>\n",
       "      <th>10</th>\n",
       "      <td>5/28/2021</td>\n",
       "      <td>133.13</td>\n",
       "      <td>15435.65</td>\n",
       "    </tr>\n",
       "  </tbody>\n",
       "</table>\n",
       "</div>"
      ],
      "text/plain": [
       "         Date     P/L  Nifty 50\n",
       "0   5/16/2021    0.00      0.00\n",
       "1   5/17/2021    9.60  14923.15\n",
       "2   5/18/2021   53.54  15108.10\n",
       "3   5/19/2021   47.93  15030.15\n",
       "4   5/20/2021   32.98  14906.05\n",
       "5   5/21/2021   79.93  15175.30\n",
       "6   5/24/2021   90.25  15197.70\n",
       "7   5/25/2021   87.79  15208.45\n",
       "8   5/26/2021  114.11  15301.45\n",
       "9   5/27/2021  122.82  15337.85\n",
       "10  5/28/2021  133.13  15435.65"
      ]
     },
     "execution_count": 29,
     "metadata": {},
     "output_type": "execute_result"
    }
   ],
   "source": [
    "SheetId = \"1hjytkvFX_qfK4DI21ZLxwBozYTUGFrSxfXriobRx29s\"\n",
    "SheetName =\"P/L\"\n",
    "url= \"https://docs.google.com/spreadsheets/d/{}/gviz/tq?tqx=out:csv&Sheet={}\".format(SheetId, SheetName)\n",
    "df = pd.read_csv(url, usecols=[\"Date\",\"P/L\",\"Nifty 50\"])\n",
    "df"
   ]
  },
  {
   "cell_type": "code",
   "execution_count": 30,
   "metadata": {},
   "outputs": [
    {
     "data": {
      "text/html": [
       "<div>\n",
       "<style scoped>\n",
       "    .dataframe tbody tr th:only-of-type {\n",
       "        vertical-align: middle;\n",
       "    }\n",
       "\n",
       "    .dataframe tbody tr th {\n",
       "        vertical-align: top;\n",
       "    }\n",
       "\n",
       "    .dataframe thead th {\n",
       "        text-align: right;\n",
       "    }\n",
       "</style>\n",
       "<table border=\"1\" class=\"dataframe\">\n",
       "  <thead>\n",
       "    <tr style=\"text-align: right;\">\n",
       "      <th></th>\n",
       "      <th>Date</th>\n",
       "      <th>P/L</th>\n",
       "      <th>Nifty 50</th>\n",
       "    </tr>\n",
       "  </thead>\n",
       "  <tbody>\n",
       "    <tr>\n",
       "      <th>1</th>\n",
       "      <td>5/17/2021</td>\n",
       "      <td>9.60</td>\n",
       "      <td>14923.15</td>\n",
       "    </tr>\n",
       "    <tr>\n",
       "      <th>2</th>\n",
       "      <td>5/18/2021</td>\n",
       "      <td>53.54</td>\n",
       "      <td>15108.10</td>\n",
       "    </tr>\n",
       "    <tr>\n",
       "      <th>3</th>\n",
       "      <td>5/19/2021</td>\n",
       "      <td>47.93</td>\n",
       "      <td>15030.15</td>\n",
       "    </tr>\n",
       "    <tr>\n",
       "      <th>4</th>\n",
       "      <td>5/20/2021</td>\n",
       "      <td>32.98</td>\n",
       "      <td>14906.05</td>\n",
       "    </tr>\n",
       "    <tr>\n",
       "      <th>5</th>\n",
       "      <td>5/21/2021</td>\n",
       "      <td>79.93</td>\n",
       "      <td>15175.30</td>\n",
       "    </tr>\n",
       "    <tr>\n",
       "      <th>6</th>\n",
       "      <td>5/24/2021</td>\n",
       "      <td>90.25</td>\n",
       "      <td>15197.70</td>\n",
       "    </tr>\n",
       "    <tr>\n",
       "      <th>7</th>\n",
       "      <td>5/25/2021</td>\n",
       "      <td>87.79</td>\n",
       "      <td>15208.45</td>\n",
       "    </tr>\n",
       "    <tr>\n",
       "      <th>8</th>\n",
       "      <td>5/26/2021</td>\n",
       "      <td>114.11</td>\n",
       "      <td>15301.45</td>\n",
       "    </tr>\n",
       "    <tr>\n",
       "      <th>9</th>\n",
       "      <td>5/27/2021</td>\n",
       "      <td>122.82</td>\n",
       "      <td>15337.85</td>\n",
       "    </tr>\n",
       "    <tr>\n",
       "      <th>10</th>\n",
       "      <td>5/28/2021</td>\n",
       "      <td>133.13</td>\n",
       "      <td>15435.65</td>\n",
       "    </tr>\n",
       "  </tbody>\n",
       "</table>\n",
       "</div>"
      ],
      "text/plain": [
       "         Date     P/L  Nifty 50\n",
       "1   5/17/2021    9.60  14923.15\n",
       "2   5/18/2021   53.54  15108.10\n",
       "3   5/19/2021   47.93  15030.15\n",
       "4   5/20/2021   32.98  14906.05\n",
       "5   5/21/2021   79.93  15175.30\n",
       "6   5/24/2021   90.25  15197.70\n",
       "7   5/25/2021   87.79  15208.45\n",
       "8   5/26/2021  114.11  15301.45\n",
       "9   5/27/2021  122.82  15337.85\n",
       "10  5/28/2021  133.13  15435.65"
      ]
     },
     "execution_count": 30,
     "metadata": {},
     "output_type": "execute_result"
    }
   ],
   "source": [
    "df.drop(df.index[:1], inplace=True)\n",
    "df"
   ]
  },
  {
   "cell_type": "markdown",
   "metadata": {},
   "source": [
    "## Let's plot Profit/Loss and Nifty50 data"
   ]
  },
  {
   "cell_type": "code",
   "execution_count": 32,
   "metadata": {},
   "outputs": [
    {
     "data": {
      "text/plain": [
       "<matplotlib.collections.PathCollection at 0x1f3beb53a30>"
      ]
     },
     "execution_count": 32,
     "metadata": {},
     "output_type": "execute_result"
    },
    {
     "data": {
      "image/png": "[encoded data removed]",
      "text/plain": [
       "<Figure size 432x288 with 1 Axes>"
      ]
     },
     "metadata": {
      "needs_background": "light"
     },
     "output_type": "display_data"
    }
   ],
   "source": [
    "plt.scatter(df[\"Nifty 50\"], df[\"P/L\"])"
   ]
  },
  {
   "cell_type": "markdown",
   "metadata": {},
   "source": [
    "## Finding Correlaton between my Stock's P/L and Nifty50\n",
    "### As you can see correlation value is around 0.978, Which suggest me a stong relationship between these two"
   ]
  },
  {
   "cell_type": "code",
   "execution_count": 33,
   "metadata": {},
   "outputs": [
    {
     "data": {
      "text/plain": [
       "0.9786608709640465"
      ]
     },
     "execution_count": 33,
     "metadata": {},
     "output_type": "execute_result"
    }
   ],
   "source": [
    "correlation = df[\"P/L\"].corr(df[\"Nifty 50\"])\n",
    "correlation"
   ]
  },
  {
   "cell_type": "code",
   "execution_count": 34,
   "metadata": {},
   "outputs": [
    {
     "data": {
      "text/plain": [
       "array([[14923.15],\n",
       "       [15108.1 ],\n",
       "       [15030.15],\n",
       "       [14906.05],\n",
       "       [15175.3 ],\n",
       "       [15197.7 ],\n",
       "       [15208.45],\n",
       "       [15301.45],\n",
       "       [15337.85],\n",
       "       [15435.65]])"
      ]
     },
     "execution_count": 34,
     "metadata": {},
     "output_type": "execute_result"
    }
   ],
   "source": [
    "x = df[\"Nifty 50\"]\n",
    "X=x.values.reshape(-1,1)\n",
    "X"
   ]
  },
  {
   "cell_type": "code",
   "execution_count": 35,
   "metadata": {},
   "outputs": [
    {
     "data": {
      "text/plain": [
       "array([  9.6 ,  53.54,  47.93,  32.98,  79.93,  90.25,  87.79, 114.11,\n",
       "       122.82, 133.13])"
      ]
     },
     "execution_count": 35,
     "metadata": {},
     "output_type": "execute_result"
    }
   ],
   "source": [
    "y=df[\"P/L\"]\n",
    "Y=y.values\n",
    "Y"
   ]
  },
  {
   "cell_type": "markdown",
   "metadata": {},
   "source": [
    "## Let's use linear regression to predict future P/L"
   ]
  },
  {
   "cell_type": "code",
   "execution_count": 36,
   "metadata": {},
   "outputs": [],
   "source": [
    "reg = linear_model.LinearRegression()"
   ]
  },
  {
   "cell_type": "code",
   "execution_count": 37,
   "metadata": {},
   "outputs": [
    {
     "data": {
      "text/plain": [
       "LinearRegression()"
      ]
     },
     "execution_count": 37,
     "metadata": {},
     "output_type": "execute_result"
    }
   ],
   "source": [
    "reg.fit(X,Y)"
   ]
  },
  {
   "cell_type": "code",
   "execution_count": 38,
   "metadata": {},
   "outputs": [],
   "source": [
    "y_predict = reg.predict(X)"
   ]
  },
  {
   "cell_type": "markdown",
   "metadata": {},
   "source": [
    "## Let's plot our regression line "
   ]
  },
  {
   "cell_type": "code",
   "execution_count": 39,
   "metadata": {},
   "outputs": [
    {
     "data": {
      "image/png": "[encoded data removed]",
      "text/plain": [
       "<Figure size 432x288 with 1 Axes>"
      ]
     },
     "metadata": {
      "needs_background": "light"
     },
     "output_type": "display_data"
    }
   ],
   "source": [
    "plt.scatter(df[\"Nifty 50\"], df[\"P/L\"])\n",
    "plt.plot(X, y_predict, color=\"red\")\n",
    "plt.show()"
   ]
  },
  {
   "cell_type": "code",
   "execution_count": 41,
   "metadata": {},
   "outputs": [],
   "source": [
    "## Q: Predict Profit/Loss at Nifty50 = 15500\n",
    "## A:"
   ]
  },
  {
   "cell_type": "code",
   "execution_count": 42,
   "metadata": {},
   "outputs": [
    {
     "data": {
      "text/plain": [
       "array([154.33027144])"
      ]
     },
     "execution_count": 42,
     "metadata": {},
     "output_type": "execute_result"
    }
   ],
   "source": [
    "Nifty_50 = [[15500]]\n",
    "y_15500 = reg.predict(Nifty_50)\n",
    "y_15500"
   ]
  },
  {
   "cell_type": "code",
   "execution_count": null,
   "metadata": {},
   "outputs": [],
   "source": []
  }
 ],
 "metadata": {
  "kernelspec": {
   "display_name": "Python 3",
   "language": "python",
   "name": "python3"
  },
  "language_info": {
   "codemirror_mode": {
    "name": "ipython",
    "version": 3
   },
   "file_extension": ".py",
   "mimetype": "text/x-python",
   "name": "python",
   "nbconvert_exporter": "python",
   "pygments_lexer": "ipython3",
   "version": "3.8.5"
  }
 },
 "nbformat": 4,
 "nbformat_minor": 4
}
